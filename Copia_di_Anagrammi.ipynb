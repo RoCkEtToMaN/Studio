{
  "nbformat": 4,
  "nbformat_minor": 0,
  "metadata": {
    "colab": {
      "name": "Copia di Anagrammi.ipynb",
      "provenance": [],
      "collapsed_sections": [],
      "authorship_tag": "ABX9TyOcFAjMi7Fresg2DDRWuEfT",
      "include_colab_link": true
    },
    "kernelspec": {
      "name": "python3",
      "display_name": "Python 3"
    }
  },
  "cells": [
    {
      "cell_type": "markdown",
      "metadata": {
        "id": "view-in-github",
        "colab_type": "text"
      },
      "source": [
        "<a href=\"https://colab.research.google.com/github/RoCkEtToMaN/Studio/blob/master/Copia_di_Anagrammi.ipynb\" target=\"_parent\"><img src=\"https://colab.research.google.com/assets/colab-badge.svg\" alt=\"Open In Colab\"/></a>"
      ]
    },
    {
      "cell_type": "markdown",
      "metadata": {
        "id": "v3aJIb03wOwj",
        "colab_type": "text"
      },
      "source": [
        "# Metodo mio"
      ]
    },
    {
      "cell_type": "code",
      "metadata": {
        "id": "rxGxqA5ARUB9",
        "colab_type": "code",
        "colab": {}
      },
      "source": [
        "def AnagrammiCheck1(parola1,parola2):\n",
        "    if (len(parola1) == len(parola2)):\n",
        "        for i in range(0,len(parola1)):\n",
        "            print(\"I: \" +str(i))\n",
        "            print(\"len(parola2)1: \" + str(len(parola2)))\n",
        "            for j in range(0,len(parola2)):\n",
        "                print(\"J: \" + str(j))\n",
        "                print(\"len(parola2)2: \" + str(len(parola2)))\n",
        "                if ( parola1[i] == parola2[j]):\n",
        "                    #print(\"una lettera scovata!\")\n",
        "                    #parola2[j]=''\n",
        "                    I=j\n",
        "                    parola2= ''.join([parola2[z] for z in range(len(parola2)) if z != I ]) \n",
        "                    print(\"PRINTO:\" + str(parola2))\n",
        "                    if (len(parola2) == 0):\n",
        "                        print(\"SONO ANAGRAMMI1!\")\n",
        "                    #print(\"len(parola2): \" + str(len(parola2)))\n",
        "                    break\n",
        "                \n",
        "                elif (i==len(parola1)-1 and j == len(parola2)-1):\n",
        "                    print(\"NON SONO ANAGRAMMI 1!\")   \n",
        "                    \n",
        "                      \n",
        "                \n",
        "            if (i == len(parola1)):\n",
        "                print(\"SONO ANAGRAMMI 2!\") \n",
        "                    # break\n",
        "               \n",
        "            \n",
        "    #elif ( j == len(parola1)):\n",
        "    else:\n",
        "        print(\"le due parole non sono anagrammi\")\n",
        "                   \n",
        "                  \n",
        "    "
      ],
      "execution_count": null,
      "outputs": []
    },
    {
      "cell_type": "markdown",
      "metadata": {
        "id": "C4LaPcsVwXPZ",
        "colab_type": "text"
      },
      "source": [
        "# Metodo con le Liste"
      ]
    },
    {
      "cell_type": "code",
      "metadata": {
        "id": "--Ye2jCPkRrH",
        "colab_type": "code",
        "colab": {}
      },
      "source": [
        "def AnagrammiCheck2(parola1,parola2):\n",
        "\n",
        "    if(len(parola1) != len(parola2)):\n",
        "        return False\n",
        "\n",
        "    lista1 =list(parola1)\n",
        "    print(lista1)\n",
        "    lista2 =list(parola2)\n",
        "    print(lista2)\n",
        "\n",
        "    for i in lista1:\n",
        "        if (i in lista2):\n",
        "            lista2.remove(i)\n",
        "             #print(i)\n",
        "        else:\n",
        "            False\n",
        "\n",
        "    if (len(lista2) == 0):\n",
        "        return True\n",
        "\n",
        "    return False   \n",
        "    "
      ],
      "execution_count": 7,
      "outputs": []
    },
    {
      "cell_type": "code",
      "metadata": {
        "id": "OZtwbfG8I-Cm",
        "colab_type": "code",
        "colab": {}
      },
      "source": [
        ""
      ],
      "execution_count": null,
      "outputs": []
    },
    {
      "cell_type": "code",
      "metadata": {
        "id": "4UOJgIby1aLY",
        "colab_type": "code",
        "colab": {}
      },
      "source": [
        ""
      ],
      "execution_count": null,
      "outputs": []
    },
    {
      "cell_type": "code",
      "metadata": {
        "id": "Fy2a5VnSXNuw",
        "colab_type": "code",
        "colab": {
          "base_uri": "https://localhost:8080/",
          "height": 101
        },
        "outputId": "2dc19d7c-36a9-49ae-d298-48ebabaa9b5f"
      },
      "source": [
        "p1=input(\"inserisci p1: \")\n",
        "p2=input(\"inserisci p2: \")\n",
        "AnagrammiCheck2(p1,p2)\n",
        "#type(p1)\n",
        "#p1[1]"
      ],
      "execution_count": 9,
      "outputs": [
        {
          "output_type": "stream",
          "text": [
            "inserisci p1: ciao\n",
            "inserisci p2: oaic\n",
            "['c', 'i', 'a', 'o']\n",
            "['o', 'a', 'i', 'c']\n"
          ],
          "name": "stdout"
        },
        {
          "output_type": "execute_result",
          "data": {
            "text/plain": [
              "True"
            ]
          },
          "metadata": {
            "tags": []
          },
          "execution_count": 9
        }
      ]
    }
  ]
}