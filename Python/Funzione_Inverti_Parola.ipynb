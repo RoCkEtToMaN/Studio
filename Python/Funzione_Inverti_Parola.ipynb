{
  "nbformat": 4,
  "nbformat_minor": 0,
  "metadata": {
    "colab": {
      "name": "Funzione: Inverti Parola.ipynb",
      "provenance": [],
      "authorship_tag": "ABX9TyPc4ItzglnaCYqHTudvfYx1",
      "include_colab_link": true
    },
    "kernelspec": {
      "name": "python3",
      "display_name": "Python 3"
    }
  },
  "cells": [
    {
      "cell_type": "markdown",
      "metadata": {
        "id": "view-in-github",
        "colab_type": "text"
      },
      "source": [
        "<a href=\"https://colab.research.google.com/github/RoCkEtToMaN/Studio/blob/master/Funzione_Inverti_Parola.ipynb\" target=\"_parent\"><img src=\"https://colab.research.google.com/assets/colab-badge.svg\" alt=\"Open In Colab\"/></a>"
      ]
    },
    {
      "cell_type": "code",
      "metadata": {
        "id": "Ly1RhpoUB6SG",
        "colab_type": "code",
        "colab": {}
      },
      "source": [
        "def InvertiParola(word):\n",
        "    w=''\n",
        "    for i in range(len(word)-1,-1,-1):\n",
        "        #print(i)\n",
        "        w+=word[i]\n",
        "    \n",
        "    print(\"parola invertita : \" + str(w))\n",
        "    #return w"
      ],
      "execution_count": 6,
      "outputs": []
    },
    {
      "cell_type": "code",
      "metadata": {
        "id": "NhLtcxCWCDL6",
        "colab_type": "code",
        "colab": {
          "base_uri": "https://localhost:8080/",
          "height": 50
        },
        "outputId": "d5a62c70-7a1d-4080-d7e2-a0c1a87f317c"
      },
      "source": [
        "parola=input()\n",
        "InvertiParola(parola)"
      ],
      "execution_count": 7,
      "outputs": [
        {
          "output_type": "stream",
          "text": [
            "cazzo\n",
            "parola invertita : ozzac\n"
          ],
          "name": "stdout"
        }
      ]
    }
  ]
}
