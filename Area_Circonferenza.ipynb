{
  "nbformat": 4,
  "nbformat_minor": 0,
  "metadata": {
    "colab": {
      "name": "Area Circonferenza.ipynb",
      "provenance": [],
      "authorship_tag": "ABX9TyPcrXULGzLBvTyHbAVy3Ipt",
      "include_colab_link": true
    },
    "kernelspec": {
      "name": "python3",
      "display_name": "Python 3"
    }
  },
  "cells": [
    {
      "cell_type": "markdown",
      "metadata": {
        "id": "view-in-github",
        "colab_type": "text"
      },
      "source": [
        "<a href=\"https://colab.research.google.com/github/RoCkEtToMaN/Studio/blob/master/Area_Circonferenza.ipynb\" target=\"_parent\"><img src=\"https://colab.research.google.com/assets/colab-badge.svg\" alt=\"Open In Colab\"/></a>"
      ]
    },
    {
      "cell_type": "code",
      "metadata": {
        "id": "yslrMW_bPBC1",
        "colab_type": "code",
        "colab": {}
      },
      "source": [
        "def AreaCirco(r):\n",
        "    return 3.14*r**2"
      ],
      "execution_count": 3,
      "outputs": []
    },
    {
      "cell_type": "code",
      "metadata": {
        "id": "fwU-iLFlPPzZ",
        "colab_type": "code",
        "colab": {
          "base_uri": "https://localhost:8080/",
          "height": 50
        },
        "outputId": "c99a19c8-d4f4-4070-fe83-71e96dc7b4c2"
      },
      "source": [
        "raggio=float(input(\"Inserisci il raggio della Circo: \"))\n",
        "area=AreaCirco(raggio)\n",
        "print(\"L'area della circonferenza di raggio %.2f è di %.2f\" %(raggio,area))"
      ],
      "execution_count": 9,
      "outputs": [
        {
          "output_type": "stream",
          "text": [
            "Inserisci il raggio della Circo: 4.8\n",
            "L'area della circonferenza di raggio 4.80 è di 72.35\n"
          ],
          "name": "stdout"
        }
      ]
    }
  ]
}