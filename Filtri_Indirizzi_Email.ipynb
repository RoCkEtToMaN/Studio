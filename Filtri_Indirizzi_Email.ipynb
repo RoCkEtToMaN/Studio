{
  "nbformat": 4,
  "nbformat_minor": 0,
  "metadata": {
    "colab": {
      "name": "Filtri Indirizzi Email.ipynb",
      "provenance": [],
      "collapsed_sections": [],
      "authorship_tag": "ABX9TyPRouLu50YKCrBWLBvKaXyu",
      "include_colab_link": true
    },
    "kernelspec": {
      "name": "python3",
      "display_name": "Python 3"
    }
  },
  "cells": [
    {
      "cell_type": "markdown",
      "metadata": {
        "id": "view-in-github",
        "colab_type": "text"
      },
      "source": [
        "<a href=\"https://colab.research.google.com/github/RoCkEtToMaN/Studio/blob/master/Filtri_Indirizzi_Email.ipynb\" target=\"_parent\"><img src=\"https://colab.research.google.com/assets/colab-badge.svg\" alt=\"Open In Colab\"/></a>"
      ]
    },
    {
      "cell_type": "markdown",
      "metadata": {
        "id": "nk2oqE4JuGvG",
        "colab_type": "text"
      },
      "source": [
        "> # ***Decrizione***\n",
        "\n",
        "Dato una lista di indirizzi Email, bisogna ridare indietro la lista ma ordinate alfaticamente.\n",
        "\n",
        "Un indirizzo è valdio se:\n",
        "\n",
        "\n",
        "*   ha il seguente formato  *nomeutente@dominio.estensione*: FATTO\n",
        "*   il nome utente contiene solamente lettere, numeri, lineette e tratti bassi:FATTO\n",
        "*   il dominio contiene solamente lettere e numeri: FATTO\n",
        "*   la lunghezza massima dell'estensione è di 3 caratteri:FATTo\n",
        "\n",
        "\n",
        "\n",
        "\n",
        "\n",
        "\n",
        "\n",
        "> # ***Alcuni Suggerimenti***\n",
        "\n",
        "Vediamo quali funzioni potrebbero essere utili per questo es!\n",
        "\n",
        "\n",
        "\n",
        "*   ***filter***: prende in IN una lista ed una funzione e ritorna una nuova lista per gli elementi per la quale la funzione ha ridato True\n",
        "\n",
        "\n",
        "\n",
        "\n",
        "\n",
        "\n",
        "\n",
        "\n",
        "\n",
        "\n",
        "\n",
        "\n",
        "\n",
        "\n",
        "\n"
      ]
    },
    {
      "cell_type": "code",
      "metadata": {
        "id": "T3iQOmjEt-Gl",
        "colab_type": "code",
        "colab": {
          "base_uri": "https://localhost:8080/",
          "height": 151
        },
        "outputId": "9214e1b4-9889-49c8-f310-460ad9b51999"
      },
      "source": [
        "def is_even(n):\n",
        "    print(n)\n",
        "    return n%2 == 0\n",
        "\n",
        "\n",
        "\n",
        "l=[2,4,7,8,12,13]\n",
        "type(l)\n",
        "l=filter(is_even,l)\n",
        "l=list(l)\n",
        "print(l)\n",
        "type(l)"
      ],
      "execution_count": null,
      "outputs": [
        {
          "output_type": "stream",
          "text": [
            "2\n",
            "4\n",
            "7\n",
            "8\n",
            "12\n",
            "13\n",
            "[2, 4, 8, 12]\n"
          ],
          "name": "stdout"
        },
        {
          "output_type": "execute_result",
          "data": {
            "text/plain": [
              "list"
            ]
          },
          "metadata": {
            "tags": []
          },
          "execution_count": 45
        }
      ]
    },
    {
      "cell_type": "markdown",
      "metadata": {
        "id": "DYsn9KY9uFwY",
        "colab_type": "text"
      },
      "source": [
        "\n",
        "\n",
        "*   ***sort***: si ordina o per ordine crescente di numeri o di lettere\n",
        "*   ***split***: divide una lista di stringhe in base al separatore scelto\n",
        "\n",
        "\n",
        "*   ***replace***: sostituisce una sottostringa con un'altra definita da noi\n",
        "*   ***isalnum***: ritorna True se una stringa contiene solo caratteri alfanumerici e non numeri o caratteri speciali\n",
        "\n",
        "\n",
        "\n"
      ]
    },
    {
      "cell_type": "markdown",
      "metadata": {
        "id": "cFbI74EGE1mV",
        "colab_type": "text"
      },
      "source": [
        ""
      ]
    },
    {
      "cell_type": "markdown",
      "metadata": {
        "id": "GaIhvDv1GBIc",
        "colab_type": "text"
      },
      "source": [
        "\n",
        "\n",
        "*   # ***ES***\n",
        "\n",
        "\n"
      ]
    },
    {
      "cell_type": "markdown",
      "metadata": {
        "id": "sF0dK6fjSAcN",
        "colab_type": "text"
      },
      "source": [
        "\n",
        "\n",
        "\n",
        "\n",
        "1.   Implemntare il cuore\n",
        "2.   adattare il cuore per l'esecuzione con filter\n",
        "\n",
        "\n",
        "splittare l indirizzo e vedere se si puo fare un replace\n",
        "\n",
        "\n",
        "## ***Fatto da me***\n"
      ]
    },
    {
      "cell_type": "code",
      "metadata": {
        "id": "JB0Lh-JE7Vj_",
        "colab_type": "code",
        "colab": {}
      },
      "source": [
        "def check_address(l):\n",
        "   \n",
        "    listOFF=[]\n",
        "    for i in range(0,len(l)): ##preparazione \n",
        "        s=l[i].split(\"@\")\n",
        "        s1=s[1].split(\".\")\n",
        "        s.remove(s[1])              ##questi li posso semplificare\n",
        "        s.append(s1[0])\n",
        "        s.append(s1[1])\n",
        "        nome=str(s[0])\n",
        "        estensione=str(s1[1])\n",
        "        dominio=str(s1[0])  ##DOMINIO\n",
        "        if ((nome.find(\"_\") != -1 or nome.find(\"-\") !=-1 or nome.isalnum() == True ) and dominio.isalnum() ==True and len(estensione) < 4):\n",
        "         \n",
        "            listOFF.append(l[i])\n",
        "        \n",
        "    listOFF.sort()   \n",
        "\n",
        "\n",
        "    \n",
        "    return listOFF\n",
        "    "
      ],
      "execution_count": null,
      "outputs": []
    },
    {
      "cell_type": "code",
      "metadata": {
        "id": "8JUidsJC7W3g",
        "colab_type": "code",
        "colab": {
          "base_uri": "https://localhost:8080/",
          "height": 34
        },
        "outputId": "d2f25481-b61e-4efa-a7c2-a40cd0aee140"
      },
      "source": [
        "indirizzo=['rockettoman@ms4n.com','rock9@msn.com','rockettoman@msn.com','rockettoman@msn.coma','rockett-an@msn.com','abtt-an@msn.com','rockett#an@msn.com','ralb_rEasd@msn.com']\n",
        "print(indirizzo)"
      ],
      "execution_count": null,
      "outputs": [
        {
          "output_type": "stream",
          "text": [
            "['rockettoman@ms4n.com', 'rock9@msn.com', 'rockettoman@msn.com', 'rockettoman@msn.coma', 'rockett-an@msn.com', 'abtt-an@msn.com', 'rockett#an@msn.com', 'ralb_rEasd@msn.com']\n"
          ],
          "name": "stdout"
        }
      ]
    },
    {
      "cell_type": "code",
      "metadata": {
        "id": "1bB47bh47wz-",
        "colab_type": "code",
        "colab": {
          "base_uri": "https://localhost:8080/",
          "height": 118
        },
        "outputId": "3655eaf1-b59d-446a-c596-fb7ed89c76c5"
      },
      "source": [
        "check_address(indirizzo)"
      ],
      "execution_count": null,
      "outputs": [
        {
          "output_type": "execute_result",
          "data": {
            "text/plain": [
              "['abtt-an@msn.com',\n",
              " 'ralb_rEasd@msn.com',\n",
              " 'rock9@msn.com',\n",
              " 'rockett-an@msn.com',\n",
              " 'rockettoman@ms4n.com',\n",
              " 'rockettoman@msn.com']"
            ]
          },
          "metadata": {
            "tags": []
          },
          "execution_count": 11
        }
      ]
    },
    {
      "cell_type": "markdown",
      "metadata": {
        "id": "bw-wMiG6MgSP",
        "colab_type": "text"
      },
      "source": [
        "## ***Fatto da HackerRank (sicuramente la piu smart)***"
      ]
    },
    {
      "cell_type": "code",
      "metadata": {
        "id": "tOvRWXw9NbsE",
        "colab_type": "code",
        "colab": {}
      },
      "source": [
        "def check_address(email):\n",
        "\n",
        "    parts = email.split(\"@\")\n",
        "\n",
        "    if(len(parts) !=2):\n",
        "        return False\n",
        "\n",
        "    name, parts = parts\n",
        "\n",
        "    parts = parts.split(\".\")\n",
        "    if(len(parts)!=2):\n",
        "        return False\n",
        "\n",
        "    domain, ext = parts\n",
        "\n",
        "    if(not name.replace(\"_\",\"\").replace(\"-\",\"\").isalnum()):\n",
        "        return False\n",
        "\n",
        "    if(not domain.isalnum()):\n",
        "        return False\n",
        "\n",
        "    if(len(ext)>3):\n",
        "        return False\n",
        "\n",
        "    \n",
        "    return True\n"
      ],
      "execution_count": 54,
      "outputs": []
    },
    {
      "cell_type": "code",
      "metadata": {
        "id": "PYdFoDFB5NsK",
        "colab_type": "code",
        "colab": {
          "base_uri": "https://localhost:8080/",
          "height": 34
        },
        "outputId": "7a5e6d6b-0841-489c-dd7f-ece0efc97131"
      },
      "source": [
        "email=\"rockettoman@msn.it\"\n",
        "check_address(email)\n",
        "type(email)\n",
        "#indirizzo=['rockettoman@ms4n.com','rock9@msn.com','rockettoman@msn.com','rockettoman@msn.coma','rockett-an@msn.com','abtt-an@msn.com','rockett#an@msn.com','ralb_rEasd@msn.com']"
      ],
      "execution_count": 58,
      "outputs": [
        {
          "output_type": "execute_result",
          "data": {
            "text/plain": [
              "str"
            ]
          },
          "metadata": {
            "tags": []
          },
          "execution_count": 58
        }
      ]
    },
    {
      "cell_type": "code",
      "metadata": {
        "id": "gyaOPQVxGW2I",
        "colab_type": "code",
        "colab": {}
      },
      "source": [
        "def filter_email(emails):\n",
        "    valid_emails=list(filter(check_address,emails))\n",
        "    valid_emails.sort()     \n",
        "    return valid_emails"
      ],
      "execution_count": 39,
      "outputs": []
    },
    {
      "cell_type": "code",
      "metadata": {
        "id": "3AQvcCu6IEcX",
        "colab_type": "code",
        "colab": {
          "base_uri": "https://localhost:8080/",
          "height": 118
        },
        "outputId": "c136c382-220c-4598-c530-7be12b841691"
      },
      "source": [
        "filter_email(['rockettoman@ms4n.com','rock9@msn.com','rockettoman@msn.com','rockettoman@msn.coma','rockett-an@msn.com','abtt-an@msn.com','rockett#an@msn.com','ralb_rEasd@msn.com'])"
      ],
      "execution_count": 40,
      "outputs": [
        {
          "output_type": "execute_result",
          "data": {
            "text/plain": [
              "['abtt-an@msn.com',\n",
              " 'ralb_rEasd@msn.com',\n",
              " 'rock9@msn.com',\n",
              " 'rockett-an@msn.com',\n",
              " 'rockettoman@ms4n.com',\n",
              " 'rockettoman@msn.com']"
            ]
          },
          "metadata": {
            "tags": []
          },
          "execution_count": 40
        }
      ]
    },
    {
      "cell_type": "code",
      "metadata": {
        "id": "blupCnfGAuu5",
        "colab_type": "code",
        "colab": {
          "base_uri": "https://localhost:8080/",
          "height": 34
        },
        "outputId": "d143f902-5b15-434b-8129-dff0fba32b41"
      },
      "source": [
        "indirizzo=['rockettoman@ms4n.com','rock9@msn.com','rockettoman@msn.com','rockettoman@msn.coma','rockett-an@msn.com','abtt-an@msn.com','rockett#an@msn.com','ralb_rEasd@msn.com']\n",
        "type(indirizzo)"
      ],
      "execution_count": 52,
      "outputs": [
        {
          "output_type": "execute_result",
          "data": {
            "text/plain": [
              "list"
            ]
          },
          "metadata": {
            "tags": []
          },
          "execution_count": 52
        }
      ]
    },
    {
      "cell_type": "code",
      "metadata": {
        "id": "EOYAINEUAwsA",
        "colab_type": "code",
        "colab": {
          "base_uri": "https://localhost:8080/",
          "height": 118
        },
        "outputId": "dc35a990-77d2-4077-c4af-6fd92afdf107"
      },
      "source": [
        "filter_email(indirizzo)"
      ],
      "execution_count": 42,
      "outputs": [
        {
          "output_type": "execute_result",
          "data": {
            "text/plain": [
              "['abtt-an@msn.com',\n",
              " 'ralb_rEasd@msn.com',\n",
              " 'rock9@msn.com',\n",
              " 'rockett-an@msn.com',\n",
              " 'rockettoman@ms4n.com',\n",
              " 'rockettoman@msn.com']"
            ]
          },
          "metadata": {
            "tags": []
          },
          "execution_count": 42
        }
      ]
    },
    {
      "cell_type": "markdown",
      "metadata": {
        "id": "OHgtqAi-BdA0",
        "colab_type": "text"
      },
      "source": [
        "## ***Fusione***\n",
        "\n",
        "Sicuramente ho ancora l'impronta da scrittura non troppo Puthoniana ma qualcosa l'ho implementato bene.\n",
        "\n",
        "Direi che la funzione Filtro e Ordina la si può includere nella funzione principale!"
      ]
    },
    {
      "cell_type": "code",
      "metadata": {
        "id": "l7jk2CODCfhr",
        "colab_type": "code",
        "colab": {}
      },
      "source": [
        "def check_final(l):\n",
        "    listOFF=[]\n",
        "    for i in range(0,len(l)): ##preparazione \n",
        "        parts =l[i].split(\"@\")\n",
        "\n",
        "        if (len(parts) != 2 ):\n",
        "            return False\n",
        "        name, parts = parts\n",
        "\n",
        "        parts=parts.split(\".\")\n",
        "\n",
        "        if (len(parts) != 2):\n",
        "            return False\n",
        "        \n",
        "        domain, ext = parts\n",
        "       \n",
        "        if ((name.find(\"_\") != -1 or name.find(\"-\") !=-1 or name.isalnum() == True ) and domain.isalnum() ==True and len(ext) < 4):         \n",
        "            listOFF.append(l[i])\n",
        "        \n",
        "    listOFF.sort()   \n",
        "\n",
        "\n",
        "    \n",
        "    return listOFF\n",
        "\n",
        "\n",
        "\n"
      ],
      "execution_count": 75,
      "outputs": []
    },
    {
      "cell_type": "code",
      "metadata": {
        "id": "8plWQWPwHn4e",
        "colab_type": "code",
        "colab": {
          "base_uri": "https://localhost:8080/",
          "height": 34
        },
        "outputId": "e7ae14e5-ffc6-43a3-8c53-68a6d368cc4b"
      },
      "source": [
        "indirizzo=['rockettoman@ms4n.com','rock9@msn.com','rockettoman@msn.com','rockettoman@msn.coma','rockett-an@msn.com','abtt-an@msn.com','rockett#an@msn.com','ralb_rEasd@msn.com']\n",
        "type(indirizzo)"
      ],
      "execution_count": 74,
      "outputs": [
        {
          "output_type": "execute_result",
          "data": {
            "text/plain": [
              "list"
            ]
          },
          "metadata": {
            "tags": []
          },
          "execution_count": 74
        }
      ]
    },
    {
      "cell_type": "code",
      "metadata": {
        "id": "fJIMFyw5Hqnj",
        "colab_type": "code",
        "colab": {
          "base_uri": "https://localhost:8080/",
          "height": 118
        },
        "outputId": "f81121f0-c012-40a1-add6-c4fd025ae13b"
      },
      "source": [
        "check_final(indirizzo)\n"
      ],
      "execution_count": 77,
      "outputs": [
        {
          "output_type": "execute_result",
          "data": {
            "text/plain": [
              "['abtt-an@msn.com',\n",
              " 'ralb_rEasd@msn.com',\n",
              " 'rock9@msn.com',\n",
              " 'rockett-an@msn.com',\n",
              " 'rockettoman@ms4n.com',\n",
              " 'rockettoman@msn.com']"
            ]
          },
          "metadata": {
            "tags": []
          },
          "execution_count": 77
        }
      ]
    }
  ]
}